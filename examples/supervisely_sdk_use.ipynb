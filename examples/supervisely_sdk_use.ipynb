{
 "cells": [
  {
   "cell_type": "code",
   "execution_count": 13,
   "id": "77bc5dfe",
   "metadata": {},
   "outputs": [
    {
     "ename": "ModuleNotFoundError",
     "evalue": "No module named 'sly_sdk_utils'",
     "output_type": "error",
     "traceback": [
      "\u001b[1;31m---------------------------------------------------------------------------\u001b[0m",
      "\u001b[1;31mModuleNotFoundError\u001b[0m                       Traceback (most recent call last)",
      "Cell \u001b[1;32mIn[13], line 4\u001b[0m\n\u001b[0;32m      1\u001b[0m \u001b[38;5;66;03m# import libraries\u001b[39;00m\n\u001b[0;32m      3\u001b[0m \u001b[38;5;28;01mimport\u001b[39;00m \u001b[38;5;21;01msupervisely\u001b[39;00m \u001b[38;5;28;01mas\u001b[39;00m \u001b[38;5;21;01msly\u001b[39;00m\n\u001b[1;32m----> 4\u001b[0m \u001b[38;5;28;01mfrom\u001b[39;00m \u001b[38;5;21;01msly_sdk_utils\u001b[39;00m \u001b[38;5;28;01mimport\u001b[39;00m change_cls_annotations, remove_pt_ann\n\u001b[0;32m      5\u001b[0m \u001b[38;5;28;01mimport\u001b[39;00m \u001b[38;5;21;01mcv2\u001b[39;00m\n",
      "\u001b[1;31mModuleNotFoundError\u001b[0m: No module named 'sly_sdk_utils'"
     ]
    }
   ],
   "source": [
    "# import libraries\n",
    "\n",
    "import supervisely as sly\n",
    "from sly_sdk_utils import change_cls_annotations, remove_pt_ann\n",
    "import cv2\n"
   ]
  },
  {
   "cell_type": "markdown",
   "id": "e1780831",
   "metadata": {},
   "source": [
    "### Connect to Supervise.ly API"
   ]
  },
  {
   "cell_type": "code",
   "execution_count": null,
   "id": "4d95d60b",
   "metadata": {},
   "outputs": [],
   "source": [
    "# Supervise.ly token\n",
    "key = \"...\"\n",
    "api = sly.Api(server_address=\"https://app.supervise.ly\", token=key)"
   ]
  },
  {
   "cell_type": "markdown",
   "id": "d8a524ed",
   "metadata": {},
   "source": [
    "### Download Supervise.ly project\n",
    "\n",
    "Download the project which has to be modified thanks to Supervise.ly Python SDK."
   ]
  },
  {
   "cell_type": "code",
   "execution_count": null,
   "id": "e6d66374",
   "metadata": {},
   "outputs": [],
   "source": [
    "project_id = 257879\n",
    "\n",
    "save_directory = \"legio_evry_SM\"\n",
    "os.makedirs(save_directory)\n",
    "# Download Project\n",
    "sly.Project.download(api, project_id, save_directory)\n",
    "project_fs = sly.Project(save_directory, sly.OpenMode.READ)\n",
    "dataset_path = os.path.join(os.getcwd(), save_directory, \"ds0\")\n",
    "ds = sly.Dataset(dataset_path, sly.OpenMode.READ)\n",
    "\n",
    "# Get object classes statistics\n",
    "ds.get_classes_stats()"
   ]
  },
  {
   "cell_type": "markdown",
   "id": "ee3cd1fa",
   "metadata": {},
   "source": [
    "### Create new Supervise.ly project\n",
    "\n",
    "Create a new Supervise.ly project which will contain the modified data of downloaded project."
   ]
  },
  {
   "cell_type": "code",
   "execution_count": null,
   "id": "22ac2df9",
   "metadata": {},
   "outputs": [],
   "source": [
    "project_path = \"/content/Legio_Evry_SM_rework\"\n",
    "new_project = sly.Project(project_path, sly.OpenMode.CREATE)\n",
    "\n",
    "# Set meta of previous project\n",
    "new_project.set_meta(project_fs.meta.clone())\n",
    "\n",
    "# Add new dataset\n",
    "new_project.create_dataset(\"ds0\")"
   ]
  },
  {
   "cell_type": "markdown",
   "id": "89ef6a1e",
   "metadata": {},
   "source": [
    "### Fill new project with modified data\n",
    "\n",
    "Fill new project with modified data. In this case, some object classes of labels are replaced by others and labels with area which equals to 1 are deleted."
   ]
  },
  {
   "cell_type": "code",
   "execution_count": null,
   "id": "cffe5b55",
   "metadata": {},
   "outputs": [],
   "source": [
    "dataset_path = \"/content/legio_evry_SM/ds0\"\n",
    "ds = sly.Dataset(dataset_path, sly.OpenMode.READ)\n",
    "\n",
    "for item_name, image_path, ann_path in ds.items():\n",
    "    print(f\"Item '{item_name}': image='{image_path}', ann='{ann_path}'\")\n",
    "\n",
    "    image = cv2.imread(image_path)\n",
    "    image = cv2.cvtColor(image, cv2.COLOR_BGR2RGB)\n",
    "\n",
    "    annotation = ds.get_ann(item_name, project_fs.meta)\n",
    "    \n",
    "    # modify data\n",
    "    # Replace \"Added\" boject class by \"Model\" object class for all labels\n",
    "    new_ann = change_cls_annotations(annotation=annotation, input_classes=[\"Added\"], \n",
    "                                   output_classes=[\"Model\"], meta=project_fs.meta)\n",
    "    # Remove labels which have an area equal to 1\n",
    "    new_ann = remove_pt_ann(annotation=new_ann)\n",
    "\n",
    "    # Add item on new project\n",
    "    new_ds.add_item_np(item_name=item_name, img=image, ann=new_ann, img_info=None)"
   ]
  },
  {
   "cell_type": "markdown",
   "id": "36759878",
   "metadata": {},
   "source": [
    "### Upload Supervise.ly dataset\n",
    "\n",
    "Upload new project into Supervisely "
   ]
  },
  {
   "cell_type": "code",
   "execution_count": null,
   "id": "d518442e",
   "metadata": {},
   "outputs": [],
   "source": [
    "workspace_id = 43377\n",
    "project_name = \"Legio_Evry_SM_rework\"\n",
    "\n",
    "project_id, project_name = sly.Project.upload(\n",
    "    new_project.directory,\n",
    "    api,\n",
    "    workspace_id=workspace_id,\n",
    "    project_name=project_name\n",
    ")"
   ]
  }
 ],
 "metadata": {
  "kernelspec": {
   "display_name": "Python 3 (ipykernel)",
   "language": "python",
   "name": "python3"
  },
  "language_info": {
   "codemirror_mode": {
    "name": "ipython",
    "version": 3
   },
   "file_extension": ".py",
   "mimetype": "text/x-python",
   "name": "python",
   "nbconvert_exporter": "python",
   "pygments_lexer": "ipython3",
   "version": "3.8.13"
  }
 },
 "nbformat": 4,
 "nbformat_minor": 5
}
